{
 "cells": [
  {
   "cell_type": "code",
   "execution_count": 14,
   "id": "d8dec967-9fbe-42fd-afff-072c10f13131",
   "metadata": {},
   "outputs": [],
   "source": [
    "# -*- coding: utf-8 -*-\n",
    "\"\"\"Loan Qualifier Application.\n",
    "\n",
    "This is a command line application to match applicants with qualifying loans.\n",
    "\n",
    "Example:\n",
    "    $ python app.py\n",
    "\"\"\"\n",
    "# Import Sys, Fire, Questionary, and Path\n",
    "\n",
    "import sys\n",
    "import fire\n",
    "import questionary\n",
    "from pathlib import Path"
   ]
  },
  {
   "cell_type": "code",
   "execution_count": 6,
   "id": "9df9c531-4743-4820-b6b0-259590f780e3",
   "metadata": {},
   "outputs": [],
   "source": [
    "# Import load csv and calculator functions from utils folder\n",
    "\n",
    "from qualifier.utils.fileio import load_csv\n",
    "from qualifier.utils.fileio import save_csv\n",
    "\n",
    "from qualifier.utils.calculators import (\n",
    "    calculate_monthly_debt_ratio,\n",
    "    calculate_loan_to_value_ratio,\n",
    ")"
   ]
  },
  {
   "cell_type": "code",
   "execution_count": 7,
   "id": "6903a339-e676-4c51-8228-73413f6a22b5",
   "metadata": {},
   "outputs": [],
   "source": [
    "# Import filters from qualifier folder\n",
    "\n",
    "from qualifier.filters.max_loan_size import filter_max_loan_size\n",
    "from qualifier.filters.credit_score import filter_credit_score\n",
    "from qualifier.filters.debt_to_income import filter_debt_to_income\n",
    "from qualifier.filters.loan_to_value import filter_loan_to_value"
   ]
  },
  {
   "cell_type": "code",
   "execution_count": 8,
   "id": "f280ad56-20c5-44ff-8ea0-3c79f7808deb",
   "metadata": {},
   "outputs": [],
   "source": [
    "# Create a function to load CSV from the data folder\n",
    "\n",
    "def load_bank_data():\n",
    "    \"\"\"Ask for the file path to the latest banking data and load the CSV file.\n",
    "\n",
    "    Returns:\n",
    "        The bank data from the data rate sheet CSV file.\n",
    "    \"\"\"\n",
    "\n",
    "    csvpath = questionary.text(\"Enter a file path to a rate-sheet (.csv):\").ask()\n",
    "    csvpath = Path(csvpath)\n",
    "    if not csvpath.exists():\n",
    "        sys.exit(f\"Oops! Can't find this path: {csvpath}\")\n",
    "\n",
    "    return load_csv(csvpath)"
   ]
  },
  {
   "cell_type": "code",
   "execution_count": 9,
   "id": "f63700b6-3726-49e1-8b87-356802f693c3",
   "metadata": {},
   "outputs": [],
   "source": [
    "# Define get_applicant_info function to collect neccesary data from the user\n",
    "\n",
    "def get_applicant_info():\n",
    "    \"\"\"Prompt dialog to get the applicant's financial information.\n",
    "\n",
    "    Returns:\n",
    "        Returns the applicant's financial information.\n",
    "    \"\"\"\n",
    "\n",
    "    credit_score = questionary.text(\"What's your credit score?\").ask()\n",
    "    debt = questionary.text(\"What's your current amount of monthly debt?\").ask()\n",
    "    income = questionary.text(\"What's your total monthly income?\").ask()\n",
    "    loan_amount = questionary.text(\"What's your desired loan amount?\").ask()\n",
    "    home_value = questionary.text(\"What's your home value?\").ask()\n",
    "\n",
    "    credit_score = int(credit_score)\n",
    "    debt = float(debt)\n",
    "    income = float(income)\n",
    "    loan_amount = float(loan_amount)\n",
    "    home_value = float(home_value)\n",
    "\n",
    "    return credit_score, debt, income, loan_amount, home_value"
   ]
  },
  {
   "cell_type": "code",
   "execution_count": 10,
   "id": "c0a9c57e-7374-495e-ad56-b25092f496ce",
   "metadata": {},
   "outputs": [],
   "source": [
    "# Define find_qualifying_loan function to iterate through relvant data and match the user to petential lenders\n",
    "\n",
    "def find_qualifying_loans(bank_data, credit_score, debt, income, loan, home_value):\n",
    "    \"\"\"Determine which loans the user qualifies for.\n",
    "\n",
    "    Loan qualification criteria is based on:\n",
    "        - Credit Score\n",
    "        - Loan Size\n",
    "        - Debit to Income ratio (calculated)\n",
    "        - Loan to Value ratio (calculated)\n",
    "\n",
    "    Args:\n",
    "        bank_data (list): A list of bank data.\n",
    "        credit_score (int): The applicant's current credit score.\n",
    "        debt (float): The applicant's total monthly debt payments.\n",
    "        income (float): The applicant's total monthly income.\n",
    "        loan (float): The total loan amount applied for.\n",
    "        home_value (float): The estimated home value.\n",
    "\n",
    "    Returns:\n",
    "        A list of the banks willing to underwrite the loan.\n",
    "\n",
    "    \"\"\"\n",
    "    \n",
    "\n",
    "    # Calculate the monthly debt ratio\n",
    "    monthly_debt_ratio = calculate_monthly_debt_ratio(debt, income)\n",
    "    print(f\"The monthly debt to income ratio is {monthly_debt_ratio:.02f}\")\n",
    "\n",
    "    # Calculate loan to value ratio\n",
    "    loan_to_value_ratio = calculate_loan_to_value_ratio(loan, home_value)\n",
    "    print(f\"The loan to value ratio is {loan_to_value_ratio:.02f}.\")\n",
    "\n",
    "    # Run qualification filters\n",
    "    bank_data_filtered = filter_max_loan_size(loan, bank_data)\n",
    "    bank_data_filtered = filter_credit_score(credit_score, bank_data_filtered)\n",
    "    bank_data_filtered = filter_debt_to_income(monthly_debt_ratio, bank_data_filtered)\n",
    "    bank_data_filtered = filter_loan_to_value(loan_to_value_ratio, bank_data_filtered)\n",
    "\n",
    "    print(f\"Found {len(bank_data_filtered)} qualifying loans\")\n",
    "\n",
    "    return bank_data_filtered\n",
    " "
   ]
  },
  {
   "cell_type": "code",
   "execution_count": 15,
   "id": "a1d2d2b2-03e0-4222-9b46-d56df060ceb1",
   "metadata": {},
   "outputs": [],
   "source": [
    "# Define a function to save the filtered data to a new CSV file\n",
    "\n",
    "def save_qualifying_loans(qualifying_loans):\n",
    "    \"\"\"Saves the qualifying loans to a CSV file.\n",
    "\n",
    "    Args:\n",
    "        qualifying_loans (list of lists): The qualifying bank loans.\n",
    "    \"\"\"\n",
    "    # @TODO: Complete the usability dialog for savings the CSV Files.\n",
    "    save = questionary.confirm(\"Would you like to save your data?\").ask()\n",
    "    \n",
    "    if save:\n",
    "        csvpath = questionary.text(\"Please enter a file path to save your data.\").ask()\n",
    "        csvpath = Path(csvpath)\n",
    "        \n",
    "        return save_csv(csvpath, qualifying_loans)"
   ]
  },
  {
   "cell_type": "code",
   "execution_count": 12,
   "id": "b0cdad01-6af4-4e81-b170-cc07cf4c1f9c",
   "metadata": {},
   "outputs": [
    {
     "name": "stderr",
     "output_type": "stream",
     "text": [
      "Warning: Output is not a terminal (fd=57).\n",
      "Warning: Input is not a terminal (fd=0).\n"
     ]
    },
    {
     "ename": "RuntimeError",
     "evalue": "This event loop is already running",
     "output_type": "error",
     "traceback": [
      "\u001b[0;31m---------------------------------------------------------------------------\u001b[0m",
      "\u001b[0;31mRuntimeError\u001b[0m                              Traceback (most recent call last)",
      "\u001b[0;32m/var/folders/_p/jckh21ks3jv08v0ztpwktnf40000gn/T/ipykernel_93752/1760831868.py\u001b[0m in \u001b[0;36m<module>\u001b[0;34m\u001b[0m\n\u001b[1;32m     18\u001b[0m \u001b[0;34m\u001b[0m\u001b[0m\n\u001b[1;32m     19\u001b[0m \u001b[0;32mif\u001b[0m \u001b[0m__name__\u001b[0m \u001b[0;34m==\u001b[0m \u001b[0;34m\"__main__\"\u001b[0m\u001b[0;34m:\u001b[0m\u001b[0;34m\u001b[0m\u001b[0;34m\u001b[0m\u001b[0m\n\u001b[0;32m---> 20\u001b[0;31m     \u001b[0mfire\u001b[0m\u001b[0;34m.\u001b[0m\u001b[0mFire\u001b[0m\u001b[0;34m(\u001b[0m\u001b[0mrun\u001b[0m\u001b[0;34m)\u001b[0m\u001b[0;34m\u001b[0m\u001b[0;34m\u001b[0m\u001b[0m\n\u001b[0m",
      "\u001b[0;32m~/opt/anaconda3/envs/dev/lib/python3.7/site-packages/fire/core.py\u001b[0m in \u001b[0;36mFire\u001b[0;34m(component, command, name)\u001b[0m\n\u001b[1;32m    139\u001b[0m     \u001b[0mcontext\u001b[0m\u001b[0;34m.\u001b[0m\u001b[0mupdate\u001b[0m\u001b[0;34m(\u001b[0m\u001b[0mcaller_locals\u001b[0m\u001b[0;34m)\u001b[0m\u001b[0;34m\u001b[0m\u001b[0;34m\u001b[0m\u001b[0m\n\u001b[1;32m    140\u001b[0m \u001b[0;34m\u001b[0m\u001b[0m\n\u001b[0;32m--> 141\u001b[0;31m   \u001b[0mcomponent_trace\u001b[0m \u001b[0;34m=\u001b[0m \u001b[0m_Fire\u001b[0m\u001b[0;34m(\u001b[0m\u001b[0mcomponent\u001b[0m\u001b[0;34m,\u001b[0m \u001b[0margs\u001b[0m\u001b[0;34m,\u001b[0m \u001b[0mparsed_flag_args\u001b[0m\u001b[0;34m,\u001b[0m \u001b[0mcontext\u001b[0m\u001b[0;34m,\u001b[0m \u001b[0mname\u001b[0m\u001b[0;34m)\u001b[0m\u001b[0;34m\u001b[0m\u001b[0;34m\u001b[0m\u001b[0m\n\u001b[0m\u001b[1;32m    142\u001b[0m \u001b[0;34m\u001b[0m\u001b[0m\n\u001b[1;32m    143\u001b[0m   \u001b[0;32mif\u001b[0m \u001b[0mcomponent_trace\u001b[0m\u001b[0;34m.\u001b[0m\u001b[0mHasError\u001b[0m\u001b[0;34m(\u001b[0m\u001b[0;34m)\u001b[0m\u001b[0;34m:\u001b[0m\u001b[0;34m\u001b[0m\u001b[0;34m\u001b[0m\u001b[0m\n",
      "\u001b[0;32m~/opt/anaconda3/envs/dev/lib/python3.7/site-packages/fire/core.py\u001b[0m in \u001b[0;36m_Fire\u001b[0;34m(component, args, parsed_flag_args, context, name)\u001b[0m\n\u001b[1;32m    469\u001b[0m             \u001b[0mcomponent_trace\u001b[0m\u001b[0;34m,\u001b[0m\u001b[0;34m\u001b[0m\u001b[0;34m\u001b[0m\u001b[0m\n\u001b[1;32m    470\u001b[0m             \u001b[0mtreatment\u001b[0m\u001b[0;34m=\u001b[0m\u001b[0;34m'class'\u001b[0m \u001b[0;32mif\u001b[0m \u001b[0mis_class\u001b[0m \u001b[0;32melse\u001b[0m \u001b[0;34m'routine'\u001b[0m\u001b[0;34m,\u001b[0m\u001b[0;34m\u001b[0m\u001b[0;34m\u001b[0m\u001b[0m\n\u001b[0;32m--> 471\u001b[0;31m             target=component.__name__)\n\u001b[0m\u001b[1;32m    472\u001b[0m         \u001b[0mhandled\u001b[0m \u001b[0;34m=\u001b[0m \u001b[0;32mTrue\u001b[0m\u001b[0;34m\u001b[0m\u001b[0;34m\u001b[0m\u001b[0m\n\u001b[1;32m    473\u001b[0m       \u001b[0;32mexcept\u001b[0m \u001b[0mFireError\u001b[0m \u001b[0;32mas\u001b[0m \u001b[0merror\u001b[0m\u001b[0;34m:\u001b[0m\u001b[0;34m\u001b[0m\u001b[0;34m\u001b[0m\u001b[0m\n",
      "\u001b[0;32m~/opt/anaconda3/envs/dev/lib/python3.7/site-packages/fire/core.py\u001b[0m in \u001b[0;36m_CallAndUpdateTrace\u001b[0;34m(component, args, component_trace, treatment, target)\u001b[0m\n\u001b[1;32m    679\u001b[0m     \u001b[0mcomponent\u001b[0m \u001b[0;34m=\u001b[0m \u001b[0mloop\u001b[0m\u001b[0;34m.\u001b[0m\u001b[0mrun_until_complete\u001b[0m\u001b[0;34m(\u001b[0m\u001b[0mfn\u001b[0m\u001b[0;34m(\u001b[0m\u001b[0;34m*\u001b[0m\u001b[0mvarargs\u001b[0m\u001b[0;34m,\u001b[0m \u001b[0;34m**\u001b[0m\u001b[0mkwargs\u001b[0m\u001b[0;34m)\u001b[0m\u001b[0;34m)\u001b[0m\u001b[0;34m\u001b[0m\u001b[0;34m\u001b[0m\u001b[0m\n\u001b[1;32m    680\u001b[0m   \u001b[0;32melse\u001b[0m\u001b[0;34m:\u001b[0m\u001b[0;34m\u001b[0m\u001b[0;34m\u001b[0m\u001b[0m\n\u001b[0;32m--> 681\u001b[0;31m     \u001b[0mcomponent\u001b[0m \u001b[0;34m=\u001b[0m \u001b[0mfn\u001b[0m\u001b[0;34m(\u001b[0m\u001b[0;34m*\u001b[0m\u001b[0mvarargs\u001b[0m\u001b[0;34m,\u001b[0m \u001b[0;34m**\u001b[0m\u001b[0mkwargs\u001b[0m\u001b[0;34m)\u001b[0m\u001b[0;34m\u001b[0m\u001b[0;34m\u001b[0m\u001b[0m\n\u001b[0m\u001b[1;32m    682\u001b[0m \u001b[0;34m\u001b[0m\u001b[0m\n\u001b[1;32m    683\u001b[0m   \u001b[0;32mif\u001b[0m \u001b[0mtreatment\u001b[0m \u001b[0;34m==\u001b[0m \u001b[0;34m'class'\u001b[0m\u001b[0;34m:\u001b[0m\u001b[0;34m\u001b[0m\u001b[0;34m\u001b[0m\u001b[0m\n",
      "\u001b[0;32m/var/folders/_p/jckh21ks3jv08v0ztpwktnf40000gn/T/ipykernel_93752/1760831868.py\u001b[0m in \u001b[0;36mrun\u001b[0;34m()\u001b[0m\n\u001b[1;32m      3\u001b[0m \u001b[0;34m\u001b[0m\u001b[0m\n\u001b[1;32m      4\u001b[0m     \u001b[0;31m# Load the latest Bank data\u001b[0m\u001b[0;34m\u001b[0m\u001b[0;34m\u001b[0m\u001b[0;34m\u001b[0m\u001b[0m\n\u001b[0;32m----> 5\u001b[0;31m     \u001b[0mbank_data\u001b[0m \u001b[0;34m=\u001b[0m \u001b[0mload_bank_data\u001b[0m\u001b[0;34m(\u001b[0m\u001b[0;34m)\u001b[0m\u001b[0;34m\u001b[0m\u001b[0;34m\u001b[0m\u001b[0m\n\u001b[0m\u001b[1;32m      6\u001b[0m \u001b[0;34m\u001b[0m\u001b[0m\n\u001b[1;32m      7\u001b[0m     \u001b[0;31m# Get the applicant's information\u001b[0m\u001b[0;34m\u001b[0m\u001b[0;34m\u001b[0m\u001b[0;34m\u001b[0m\u001b[0m\n",
      "\u001b[0;32m/var/folders/_p/jckh21ks3jv08v0ztpwktnf40000gn/T/ipykernel_93752/1600227532.py\u001b[0m in \u001b[0;36mload_bank_data\u001b[0;34m()\u001b[0m\n\u001b[1;32m      8\u001b[0m     \"\"\"\n\u001b[1;32m      9\u001b[0m \u001b[0;34m\u001b[0m\u001b[0m\n\u001b[0;32m---> 10\u001b[0;31m     \u001b[0mcsvpath\u001b[0m \u001b[0;34m=\u001b[0m \u001b[0mquestionary\u001b[0m\u001b[0;34m.\u001b[0m\u001b[0mtext\u001b[0m\u001b[0;34m(\u001b[0m\u001b[0;34m\"Enter a file path to a rate-sheet (.csv):\"\u001b[0m\u001b[0;34m)\u001b[0m\u001b[0;34m.\u001b[0m\u001b[0mask\u001b[0m\u001b[0;34m(\u001b[0m\u001b[0;34m)\u001b[0m\u001b[0;34m\u001b[0m\u001b[0;34m\u001b[0m\u001b[0m\n\u001b[0m\u001b[1;32m     11\u001b[0m     \u001b[0mcsvpath\u001b[0m \u001b[0;34m=\u001b[0m \u001b[0mPath\u001b[0m\u001b[0;34m(\u001b[0m\u001b[0mcsvpath\u001b[0m\u001b[0;34m)\u001b[0m\u001b[0;34m\u001b[0m\u001b[0;34m\u001b[0m\u001b[0m\n\u001b[1;32m     12\u001b[0m     \u001b[0;32mif\u001b[0m \u001b[0;32mnot\u001b[0m \u001b[0mcsvpath\u001b[0m\u001b[0;34m.\u001b[0m\u001b[0mexists\u001b[0m\u001b[0;34m(\u001b[0m\u001b[0;34m)\u001b[0m\u001b[0;34m:\u001b[0m\u001b[0;34m\u001b[0m\u001b[0;34m\u001b[0m\u001b[0m\n",
      "\u001b[0;32m~/opt/anaconda3/envs/dev/lib/python3.7/site-packages/questionary/question.py\u001b[0m in \u001b[0;36mask\u001b[0;34m(self, patch_stdout, kbi_msg)\u001b[0m\n\u001b[1;32m     68\u001b[0m \u001b[0;34m\u001b[0m\u001b[0m\n\u001b[1;32m     69\u001b[0m         \u001b[0;32mtry\u001b[0m\u001b[0;34m:\u001b[0m\u001b[0;34m\u001b[0m\u001b[0;34m\u001b[0m\u001b[0m\n\u001b[0;32m---> 70\u001b[0;31m             \u001b[0;32mreturn\u001b[0m \u001b[0mself\u001b[0m\u001b[0;34m.\u001b[0m\u001b[0munsafe_ask\u001b[0m\u001b[0;34m(\u001b[0m\u001b[0mpatch_stdout\u001b[0m\u001b[0;34m)\u001b[0m\u001b[0;34m\u001b[0m\u001b[0;34m\u001b[0m\u001b[0m\n\u001b[0m\u001b[1;32m     71\u001b[0m         \u001b[0;32mexcept\u001b[0m \u001b[0mKeyboardInterrupt\u001b[0m\u001b[0;34m:\u001b[0m\u001b[0;34m\u001b[0m\u001b[0;34m\u001b[0m\u001b[0m\n\u001b[1;32m     72\u001b[0m             \u001b[0mprint\u001b[0m\u001b[0;34m(\u001b[0m\u001b[0;34m\"\\n{}\\n\"\u001b[0m\u001b[0;34m.\u001b[0m\u001b[0mformat\u001b[0m\u001b[0;34m(\u001b[0m\u001b[0mkbi_msg\u001b[0m\u001b[0;34m)\u001b[0m\u001b[0;34m)\u001b[0m\u001b[0;34m\u001b[0m\u001b[0;34m\u001b[0m\u001b[0m\n",
      "\u001b[0;32m~/opt/anaconda3/envs/dev/lib/python3.7/site-packages/questionary/question.py\u001b[0m in \u001b[0;36munsafe_ask\u001b[0;34m(self, patch_stdout)\u001b[0m\n\u001b[1;32m     90\u001b[0m                 \u001b[0;32mreturn\u001b[0m \u001b[0mself\u001b[0m\u001b[0;34m.\u001b[0m\u001b[0mapplication\u001b[0m\u001b[0;34m.\u001b[0m\u001b[0mrun\u001b[0m\u001b[0;34m(\u001b[0m\u001b[0;34m)\u001b[0m\u001b[0;34m\u001b[0m\u001b[0;34m\u001b[0m\u001b[0m\n\u001b[1;32m     91\u001b[0m         \u001b[0;32melse\u001b[0m\u001b[0;34m:\u001b[0m\u001b[0;34m\u001b[0m\u001b[0;34m\u001b[0m\u001b[0m\n\u001b[0;32m---> 92\u001b[0;31m             \u001b[0;32mreturn\u001b[0m \u001b[0mself\u001b[0m\u001b[0;34m.\u001b[0m\u001b[0mapplication\u001b[0m\u001b[0;34m.\u001b[0m\u001b[0mrun\u001b[0m\u001b[0;34m(\u001b[0m\u001b[0;34m)\u001b[0m\u001b[0;34m\u001b[0m\u001b[0;34m\u001b[0m\u001b[0m\n\u001b[0m\u001b[1;32m     93\u001b[0m \u001b[0;34m\u001b[0m\u001b[0m\n\u001b[1;32m     94\u001b[0m     \u001b[0;32mdef\u001b[0m \u001b[0mskip_if\u001b[0m\u001b[0;34m(\u001b[0m\u001b[0mself\u001b[0m\u001b[0;34m,\u001b[0m \u001b[0mcondition\u001b[0m\u001b[0;34m:\u001b[0m \u001b[0mbool\u001b[0m\u001b[0;34m,\u001b[0m \u001b[0mdefault\u001b[0m\u001b[0;34m:\u001b[0m \u001b[0mAny\u001b[0m \u001b[0;34m=\u001b[0m \u001b[0;32mNone\u001b[0m\u001b[0;34m)\u001b[0m \u001b[0;34m->\u001b[0m \u001b[0;34m\"Question\"\u001b[0m\u001b[0;34m:\u001b[0m\u001b[0;34m\u001b[0m\u001b[0;34m\u001b[0m\u001b[0m\n",
      "\u001b[0;32m~/opt/anaconda3/envs/dev/lib/python3.7/site-packages/prompt_toolkit/application/application.py\u001b[0m in \u001b[0;36mrun\u001b[0;34m(self, pre_run, set_exception_handler, in_thread)\u001b[0m\n\u001b[1;32m    890\u001b[0m \u001b[0;34m\u001b[0m\u001b[0m\n\u001b[1;32m    891\u001b[0m         return loop.run_until_complete(\n\u001b[0;32m--> 892\u001b[0;31m             \u001b[0mself\u001b[0m\u001b[0;34m.\u001b[0m\u001b[0mrun_async\u001b[0m\u001b[0;34m(\u001b[0m\u001b[0mpre_run\u001b[0m\u001b[0;34m=\u001b[0m\u001b[0mpre_run\u001b[0m\u001b[0;34m,\u001b[0m \u001b[0mset_exception_handler\u001b[0m\u001b[0;34m=\u001b[0m\u001b[0mset_exception_handler\u001b[0m\u001b[0;34m)\u001b[0m\u001b[0;34m\u001b[0m\u001b[0;34m\u001b[0m\u001b[0m\n\u001b[0m\u001b[1;32m    893\u001b[0m         )\n\u001b[1;32m    894\u001b[0m \u001b[0;34m\u001b[0m\u001b[0m\n",
      "\u001b[0;32m~/opt/anaconda3/envs/dev/lib/python3.7/asyncio/base_events.py\u001b[0m in \u001b[0;36mrun_until_complete\u001b[0;34m(self, future)\u001b[0m\n\u001b[1;32m    561\u001b[0m         \"\"\"\n\u001b[1;32m    562\u001b[0m         \u001b[0mself\u001b[0m\u001b[0;34m.\u001b[0m\u001b[0m_check_closed\u001b[0m\u001b[0;34m(\u001b[0m\u001b[0;34m)\u001b[0m\u001b[0;34m\u001b[0m\u001b[0;34m\u001b[0m\u001b[0m\n\u001b[0;32m--> 563\u001b[0;31m         \u001b[0mself\u001b[0m\u001b[0;34m.\u001b[0m\u001b[0m_check_runnung\u001b[0m\u001b[0;34m(\u001b[0m\u001b[0;34m)\u001b[0m\u001b[0;34m\u001b[0m\u001b[0;34m\u001b[0m\u001b[0m\n\u001b[0m\u001b[1;32m    564\u001b[0m \u001b[0;34m\u001b[0m\u001b[0m\n\u001b[1;32m    565\u001b[0m         \u001b[0mnew_task\u001b[0m \u001b[0;34m=\u001b[0m \u001b[0;32mnot\u001b[0m \u001b[0mfutures\u001b[0m\u001b[0;34m.\u001b[0m\u001b[0misfuture\u001b[0m\u001b[0;34m(\u001b[0m\u001b[0mfuture\u001b[0m\u001b[0;34m)\u001b[0m\u001b[0;34m\u001b[0m\u001b[0;34m\u001b[0m\u001b[0m\n",
      "\u001b[0;32m~/opt/anaconda3/envs/dev/lib/python3.7/asyncio/base_events.py\u001b[0m in \u001b[0;36m_check_runnung\u001b[0;34m(self)\u001b[0m\n\u001b[1;32m    521\u001b[0m     \u001b[0;32mdef\u001b[0m \u001b[0m_check_runnung\u001b[0m\u001b[0;34m(\u001b[0m\u001b[0mself\u001b[0m\u001b[0;34m)\u001b[0m\u001b[0;34m:\u001b[0m\u001b[0;34m\u001b[0m\u001b[0;34m\u001b[0m\u001b[0m\n\u001b[1;32m    522\u001b[0m         \u001b[0;32mif\u001b[0m \u001b[0mself\u001b[0m\u001b[0;34m.\u001b[0m\u001b[0mis_running\u001b[0m\u001b[0;34m(\u001b[0m\u001b[0;34m)\u001b[0m\u001b[0;34m:\u001b[0m\u001b[0;34m\u001b[0m\u001b[0;34m\u001b[0m\u001b[0m\n\u001b[0;32m--> 523\u001b[0;31m             \u001b[0;32mraise\u001b[0m \u001b[0mRuntimeError\u001b[0m\u001b[0;34m(\u001b[0m\u001b[0;34m'This event loop is already running'\u001b[0m\u001b[0;34m)\u001b[0m\u001b[0;34m\u001b[0m\u001b[0;34m\u001b[0m\u001b[0m\n\u001b[0m\u001b[1;32m    524\u001b[0m         \u001b[0;32mif\u001b[0m \u001b[0mevents\u001b[0m\u001b[0;34m.\u001b[0m\u001b[0m_get_running_loop\u001b[0m\u001b[0;34m(\u001b[0m\u001b[0;34m)\u001b[0m \u001b[0;32mis\u001b[0m \u001b[0;32mnot\u001b[0m \u001b[0;32mNone\u001b[0m\u001b[0;34m:\u001b[0m\u001b[0;34m\u001b[0m\u001b[0;34m\u001b[0m\u001b[0m\n\u001b[1;32m    525\u001b[0m             raise RuntimeError(\n",
      "\u001b[0;31mRuntimeError\u001b[0m: This event loop is already running"
     ]
    }
   ],
   "source": [
    "def run():\n",
    "    \"\"\"The main function for running the script.\"\"\"\n",
    "\n",
    "    # Load the latest Bank data\n",
    "    bank_data = load_bank_data()\n",
    "\n",
    "    # Get the applicant's information\n",
    "    credit_score, debt, income, loan_amount, home_value = get_applicant_info()\n",
    "\n",
    "    # Find qualifying loans\n",
    "    qualifying_loans = find_qualifying_loans(\n",
    "        bank_data, credit_score, debt, income, loan_amount, home_value\n",
    "    )\n",
    "\n",
    "    # Save qualifying loans\n",
    "    save_qualifying_loans(qualifying_loans)\n",
    "\n",
    "\n",
    "if __name__ == \"__main__\":\n",
    "    fire.Fire(run)"
   ]
  },
  {
   "cell_type": "code",
   "execution_count": null,
   "id": "0d10ffc7-7c38-431e-b813-c04cd2cfc473",
   "metadata": {},
   "outputs": [],
   "source": []
  }
 ],
 "metadata": {
  "kernelspec": {
   "display_name": "dev",
   "language": "python",
   "name": "dev"
  },
  "language_info": {
   "codemirror_mode": {
    "name": "ipython",
    "version": 3
   },
   "file_extension": ".py",
   "mimetype": "text/x-python",
   "name": "python",
   "nbconvert_exporter": "python",
   "pygments_lexer": "ipython3",
   "version": "3.7.11"
  }
 },
 "nbformat": 4,
 "nbformat_minor": 5
}
